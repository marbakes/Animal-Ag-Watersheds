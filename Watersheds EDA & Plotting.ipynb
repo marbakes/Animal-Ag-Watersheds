{
 "cells": [
  {
   "cell_type": "code",
   "execution_count": 4,
   "metadata": {},
   "outputs": [],
   "source": [
    "#Import Required Modules\n",
    "import pandas as pd\n",
    "import numpy as np\n",
    "import matplotlib.pyplot as plt\n",
    "import geopandas as gpd\n",
    "import fiona\n",
    "import matplotlib.pyplot as plt\n",
    "import pandas as pd\n",
    "import numpy as np\n",
    "from shapely.geometry import Polygon\n",
    "from mpl_toolkits.axes_grid1 import make_axes_locatable"
   ]
  },
  {
   "cell_type": "code",
   "execution_count": 5,
   "metadata": {},
   "outputs": [],
   "source": [
    "#Import watershed-aggregated livestock tables\n",
    "chickens_broilers_total = pd.read_csv('Data/Selected/Watershed/ChickensBroilers.csv', dtype = 'str')\n",
    "chickens_layers_total = pd.read_csv('Data/Selected/Watershed/ChickensLayers.csv', dtype = 'str')\n",
    "cows_beef_total = pd.read_csv('Data/Selected/Watershed/CowsBeef.csv', dtype = 'str')\n",
    "cows_milk_total = pd.read_csv('Data/Selected/Watershed/CowsMilk.csv', dtype = 'str')\n",
    "hogs_total = pd.read_csv('Data/Selected/Watershed/Hogs.csv', dtype = 'str')"
   ]
  },
  {
   "cell_type": "code",
   "execution_count": 6,
   "metadata": {},
   "outputs": [],
   "source": [
    "#Create Lists of all watersheds and all years across all dataframes\n",
    "all_ws = []\n",
    "all_ys = []\n",
    "\n",
    "for df in [chickens_broilers_total,\n",
    "          chickens_layers_total,\n",
    "          cows_beef_total,\n",
    "          cows_milk_total,\n",
    "          hogs_total]:\n",
    "    all_ws.extend(df['HUC'].unique())\n",
    "    all_ys.extend(df['YEAR'].unique())\n",
    "    df['total'] = df['total'].astype('float') #Recast 'total' column as float\n",
    "\n",
    "all_ws = list(set(all_ws))\n",
    "all_ys = list(set(all_ys))"
   ]
  },
  {
   "cell_type": "code",
   "execution_count": 118,
   "metadata": {},
   "outputs": [],
   "source": [
    "total_df = pd.DataFrame()\n",
    "\n",
    "for huc in all_ws:\n",
    "    ws_df = pd.DataFrame(all_ys, columns = ['YEAR']).sort_values(by = 'YEAR')\n",
    "    ws_df['HUC'] = huc\n",
    "    total_df = pd.concat([total_df, ws_df])\n",
    "\n",
    "total_df = total_df.merge(\n",
    "    chickens_broilers_total, \n",
    "    on = ['YEAR', 'HUC'], \n",
    "    how = 'outer'\n",
    ").rename(\n",
    "    columns = {'total' :'chickens_broilers_total'}\n",
    ").merge(\n",
    "    chickens_layers_total, \n",
    "    on = ['YEAR', 'HUC'], \n",
    "    how = 'outer'\n",
    ").rename(\n",
    "    columns = {'total' :'chickens_layers_total'}\n",
    ").merge(\n",
    "    cows_beef_total, \n",
    "    on = ['YEAR', 'HUC'], \n",
    "    how = 'outer'\n",
    ").rename(\n",
    "    columns = {'total' :'cows_beef_total'}\n",
    ").merge(\n",
    "    cows_milk_total, \n",
    "    on = ['YEAR', 'HUC'], \n",
    "    how = 'outer'\n",
    ").rename(\n",
    "    columns = {'total' :'cows_milk_total'}\n",
    ").merge(\n",
    "    hogs_total, \n",
    "    on = ['YEAR', 'HUC'], \n",
    "    how = 'outer'\n",
    ").rename(\n",
    "    columns = {'total' :'hogs_total'}\n",
    ")"
   ]
  },
  {
   "cell_type": "code",
   "execution_count": 119,
   "metadata": {},
   "outputs": [],
   "source": [
    "total_df['chickens_broilers_total'] = total_df.fillna(method = 'pad')['chickens_broilers_total'] * (14.97 / 455)\n",
    "total_df['chickens_layers_total'] = total_df.fillna(method = 'pad')['chickens_layers_total'] * (11.45 / 250)\n",
    "total_df['cows_beef_total'] = total_df.fillna(method = 'pad')['cows_beef_total'] * (11.5 / 1)\n",
    "total_df['cows_milk_total'] = total_df.fillna(method = 'pad')['cows_milk_total'] * (15.24 / 0.74)\n",
    "total_df['hogs_total'] = total_df.fillna(method = 'pad')['hogs_total'] * (14.69 / 9.09)\n",
    "\n",
    "total_df['total_waste'] = total_df['chickens_broilers_total'] + total_df['chickens_layers_total'] + total_df['cows_beef_total'] + total_df['cows_milk_total'] + total_df['hogs_total']"
   ]
  },
  {
   "cell_type": "code",
   "execution_count": 9,
   "metadata": {},
   "outputs": [],
   "source": [
    "total_df[['YEAR','HUC','total_waste']].rename(columns = {'total_waste': 'total'}).to_csv(\"Data/Selected/Watershed/TotalWaste.csv\")"
   ]
  },
  {
   "cell_type": "code",
   "execution_count": 10,
   "metadata": {},
   "outputs": [
    {
     "name": "stderr",
     "output_type": "stream",
     "text": [
      "TopologyException: Input geom 0 is invalid: Ring Self-intersection at or near point -73.025477600215197 41.213282665195379 at -73.025477600215197 41.213282665195379\n"
     ]
    }
   ],
   "source": [
    "import PlotMaps\n",
    "PlotMaps.watersheds_map(\"Data/Selected/Watershed/TotalWaste.csv\", \"Total Livestock Waste, Tons per Year\", density = False, quantile = 0.999)"
   ]
  },
  {
   "cell_type": "code",
   "execution_count": 11,
   "metadata": {},
   "outputs": [],
   "source": [
    "colors_dict = {\n",
    "    'chickens_broilers_total': 'tab:blue', \n",
    "    'chickens_layers_total': 'tab:orange', \n",
    "    'cows_beef_total': 'tab:green',\n",
    "    'cows_milk_total': 'tab:red',\n",
    "    'hogs_total': 'tab:purple'\n",
    "}"
   ]
  },
  {
   "cell_type": "code",
   "execution_count": 12,
   "metadata": {},
   "outputs": [],
   "source": [
    "for huc in total_df.groupby('HUC')['total_waste'].max().sort_values(ascending = False).head(10).index:\n",
    "    plt.figure(figsize = (10, 7))\n",
    "    plt.title(f\"Tons Waste Per Year in Watershed {huc}\")\n",
    "    plt.stackplot(total_df.loc[total_df['HUC'] == huc, 'YEAR'],\n",
    "                  total_df.loc[total_df['HUC'] == huc, 'chickens_broilers_total'],\n",
    "                  total_df.loc[total_df['HUC'] == huc, 'chickens_layers_total'],\n",
    "                  total_df.loc[total_df['HUC'] == huc, 'cows_beef_total'],\n",
    "                  total_df.loc[total_df['HUC'] == huc, 'cows_milk_total'],\n",
    "                  total_df.loc[total_df['HUC'] == huc, 'hogs_total'],\n",
    "                 labels = [\n",
    "                     'Broiler Chickens',\n",
    "                     'Layer Chickens',\n",
    "                     'Beef Cows',\n",
    "                     'Milk Cows',\n",
    "                     'Hogs'\n",
    "                 ],\n",
    "                 colors = colors_dict.values());\n",
    "    plt.xticks(['1980', '1990', '2000', '2010', '2020'])\n",
    "    plt.xlabel('Year')\n",
    "    plt.ylabel(\"Tons Waste Per Year\")\n",
    "    plt.legend(loc = 'lower left')\n",
    "    plt.savefig(f\"Plots/Top10_{huc}.jpg\")\n",
    "    plt.close();"
   ]
  },
  {
   "cell_type": "code",
   "execution_count": 13,
   "metadata": {},
   "outputs": [],
   "source": [
    "plt.figure(figsize = (14, 10))\n",
    "plt.title(\"Proportions of Livestock Waste Among All Watersheds and Most Impacted Watersheds\")\n",
    "bottom_all = 0\n",
    "bottom_top = 0\n",
    "for column in ['chickens_broilers_total', 'chickens_layers_total', 'cows_beef_total', 'cows_milk_total', 'hogs_total']:\n",
    "    \n",
    "    plt.bar(x = ['All Watersheds'], height = total_df[column].sum(), bottom = bottom_all, label = column, color = colors_dict[column])\n",
    "    bottom_all += total_df[column].sum()\n",
    "    plt.bar(x = ['Most Impacted Watersheds'], height = total_df.loc[total_df['total_waste'] > total_df['total_waste'].quantile(0.9), column].sum(), bottom = bottom_top, color = colors_dict[column])\n",
    "    bottom_top += total_df.loc[total_df['total_waste'] > total_df['total_waste'].quantile(0.9), column].sum()\n",
    "plt.legend()\n",
    "plt.ylabel(\"Annual Tons of Waste\")\n",
    "plt.savefig(\"Plots/AnimalProportions.jpg\")\n",
    "plt.close();"
   ]
  },
  {
   "cell_type": "code",
   "execution_count": 14,
   "metadata": {},
   "outputs": [],
   "source": [
    "for year in total_df['YEAR'].unique():\n",
    "    plt.figure(figsize = (12,9))\n",
    "    plt.hist(total_df.loc[total_df['YEAR'] == year, 'total_waste'], bins = 70, label = f'{year} Distribution')\n",
    "    plt.hist(total_df.loc[total_df['YEAR'] == '2020', 'total_waste'], bins = 70, histtype = 'step', color = 'grey', label = '2020 Distribution')\n",
    "    plt.plot((total_df.loc[total_df['YEAR'] == '1980', 'total_waste'].median(), total_df.loc[total_df['YEAR'] == year, 'total_waste'].median()), (0, 70), color = 'k', linestyle = '--', label = f'{year} Median')\n",
    "    plt.xlim(0, total_df['total_waste'].max())\n",
    "    plt.ylim(0, 70)\n",
    "    plt.title(f\"Total Animal Waste Per Watershed, {year}\")\n",
    "    plt.xlabel(\"Total Animal Waste Per Watershed, Tons per Year\")\n",
    "    plt.legend()\n",
    "    plt.savefig(f\"Plots/WasteHist{year}.jpg\")\n",
    "    plt.close();"
   ]
  },
  {
   "cell_type": "code",
   "execution_count": 15,
   "metadata": {},
   "outputs": [
    {
     "data": {
      "text/plain": [
       "YEAR                              2014\n",
       "HUC                             180300\n",
       "chickens_broilers_total         512623\n",
       "chickens_layers_total          8112.36\n",
       "cows_beef_total                 739643\n",
       "cows_milk_total            1.78479e+07\n",
       "hogs_total                      199186\n",
       "total_waste                1.93074e+07\n",
       "Name: 4913, dtype: object"
      ]
     },
     "execution_count": 15,
     "metadata": {},
     "output_type": "execute_result"
    }
   ],
   "source": [
    "total_df.iloc[total_df['total_waste'].idxmax()]"
   ]
  },
  {
   "cell_type": "code",
   "execution_count": 16,
   "metadata": {},
   "outputs": [
    {
     "data": {
      "image/png": "[encoded data removed]",
      "text/plain": [
       "<Figure size 1008x720 with 1 Axes>"
      ]
     },
     "metadata": {
      "needs_background": "light"
     },
     "output_type": "display_data"
    }
   ],
   "source": [
    "plt.figure(figsize = (14, 10))\n",
    "plt.title(\"Standard Deviation in Waste Per Watershed\")\n",
    "for column in ['chickens_broilers_total', 'chickens_layers_total', 'cows_beef_total', 'cows_milk_total', 'hogs_total']:\n",
    "    (total_df.groupby('YEAR')[column].std()).plot(color = colors_dict[column], label = column)\n",
    "plt.legend()\n",
    "plt.ylabel(\"Standard Deviation in Waste Per Watershed, Tons per Year\")\n",
    "plt.savefig(\"Plots/StandardDeviationTime.jpg\")"
   ]
  },
  {
   "cell_type": "code",
   "execution_count": 22,
   "metadata": {},
   "outputs": [],
   "source": [
    "epa = gpd.GeoDataFrame(pd.merge(left = gpd.read_file(\"Data/Sources/rad_303d_20150501_shp/rad_303d_20150501/\", layer = 'attgeo_303dcaussrce').drop(columns = ['geometry']),\n",
    "          right = gpd.read_file(\"Data/Sources/rad_303d_20150501_shp/rad_303d_20150501/\", layer = 'rad_303d_a')[['ESRI_KEY', 'geometry', 'HUC12']],\n",
    "          on = ['ESRI_KEY']))\n",
    "\n",
    "epa['HUC'] = epa['HUC12'].str[:6]\n",
    "\n",
    "n303d = epa[epa['LW_PARC_NM'] == 'NUTRIENTS'].groupby(['HUC', 'CYCLE_YEAR']).count()[['LIST_ID']].reset_index().rename(columns = {'LIST_ID': 'n303d', 'CYCLE_YEAR': 'YEAR'})"
   ]
  },
  {
   "cell_type": "code",
   "execution_count": 46,
   "metadata": {},
   "outputs": [],
   "source": [
    "total_df = pd.merge(left = total_df[total_df['YEAR'].isin(n303d['YEAR'])],\n",
    "        right = n303d,\n",
    "        on = ['HUC', 'YEAR'],\n",
    "        how = 'outer').dropna(subset = ['total_waste']).fillna(0)"
   ]
  },
  {
   "cell_type": "code",
   "execution_count": 49,
   "metadata": {},
   "outputs": [
    {
     "data": {
      "text/html": [
       "<div>\n",
       "<style scoped>\n",
       "    .dataframe tbody tr th:only-of-type {\n",
       "        vertical-align: middle;\n",
       "    }\n",
       "\n",
       "    .dataframe tbody tr th {\n",
       "        vertical-align: top;\n",
       "    }\n",
       "\n",
       "    .dataframe thead th {\n",
       "        text-align: right;\n",
       "    }\n",
       "</style>\n",
       "<table border=\"1\" class=\"dataframe\">\n",
       "  <thead>\n",
       "    <tr style=\"text-align: right;\">\n",
       "      <th></th>\n",
       "      <th>YEAR</th>\n",
       "      <th>HUC</th>\n",
       "      <th>chickens_broilers_total</th>\n",
       "      <th>chickens_layers_total</th>\n",
       "      <th>cows_beef_total</th>\n",
       "      <th>cows_milk_total</th>\n",
       "      <th>hogs_total</th>\n",
       "      <th>total_waste</th>\n",
       "      <th>n303d</th>\n",
       "    </tr>\n",
       "  </thead>\n",
       "  <tbody>\n",
       "    <tr>\n",
       "      <th>19</th>\n",
       "      <td>2012</td>\n",
       "      <td>041503</td>\n",
       "      <td>260.481433</td>\n",
       "      <td>499.520645</td>\n",
       "      <td>9.394114e+04</td>\n",
       "      <td>1.286047e+06</td>\n",
       "      <td>3.266735e+03</td>\n",
       "      <td>1.384015e+06</td>\n",
       "      <td>61.0</td>\n",
       "    </tr>\n",
       "    <tr>\n",
       "      <th>24</th>\n",
       "      <td>2012</td>\n",
       "      <td>102702</td>\n",
       "      <td>2067.732539</td>\n",
       "      <td>82100.697810</td>\n",
       "      <td>1.978980e+06</td>\n",
       "      <td>1.665708e+06</td>\n",
       "      <td>1.033615e+06</td>\n",
       "      <td>4.762472e+06</td>\n",
       "      <td>26.0</td>\n",
       "    </tr>\n",
       "    <tr>\n",
       "      <th>32</th>\n",
       "      <td>2008</td>\n",
       "      <td>041000</td>\n",
       "      <td>12769.722064</td>\n",
       "      <td>307222.454413</td>\n",
       "      <td>6.778783e+05</td>\n",
       "      <td>1.842790e+06</td>\n",
       "      <td>1.473064e+06</td>\n",
       "      <td>4.313725e+06</td>\n",
       "      <td>461.0</td>\n",
       "    </tr>\n",
       "    <tr>\n",
       "      <th>39</th>\n",
       "      <td>2012</td>\n",
       "      <td>102500</td>\n",
       "      <td>180.536089</td>\n",
       "      <td>752.687398</td>\n",
       "      <td>4.940555e+06</td>\n",
       "      <td>3.606809e+06</td>\n",
       "      <td>1.220018e+06</td>\n",
       "      <td>9.768315e+06</td>\n",
       "      <td>14.0</td>\n",
       "    </tr>\n",
       "    <tr>\n",
       "      <th>40</th>\n",
       "      <td>2002</td>\n",
       "      <td>030902</td>\n",
       "      <td>170.858075</td>\n",
       "      <td>330.713478</td>\n",
       "      <td>1.597562e+06</td>\n",
       "      <td>1.765747e+05</td>\n",
       "      <td>4.167948e+03</td>\n",
       "      <td>1.778806e+06</td>\n",
       "      <td>235.0</td>\n",
       "    </tr>\n",
       "    <tr>\n",
       "      <th>...</th>\n",
       "      <td>...</td>\n",
       "      <td>...</td>\n",
       "      <td>...</td>\n",
       "      <td>...</td>\n",
       "      <td>...</td>\n",
       "      <td>...</td>\n",
       "      <td>...</td>\n",
       "      <td>...</td>\n",
       "      <td>...</td>\n",
       "    </tr>\n",
       "    <tr>\n",
       "      <th>1694</th>\n",
       "      <td>2012</td>\n",
       "      <td>110300</td>\n",
       "      <td>165.127843</td>\n",
       "      <td>57832.759040</td>\n",
       "      <td>2.750970e+06</td>\n",
       "      <td>6.119901e+06</td>\n",
       "      <td>4.656392e+05</td>\n",
       "      <td>9.394508e+06</td>\n",
       "      <td>38.0</td>\n",
       "    </tr>\n",
       "    <tr>\n",
       "      <th>1699</th>\n",
       "      <td>2012</td>\n",
       "      <td>102600</td>\n",
       "      <td>89.575515</td>\n",
       "      <td>2029.159728</td>\n",
       "      <td>3.941710e+06</td>\n",
       "      <td>2.178672e+06</td>\n",
       "      <td>3.713633e+05</td>\n",
       "      <td>6.493864e+06</td>\n",
       "      <td>27.0</td>\n",
       "    </tr>\n",
       "    <tr>\n",
       "      <th>1704</th>\n",
       "      <td>2012</td>\n",
       "      <td>130302</td>\n",
       "      <td>3.725912</td>\n",
       "      <td>34.554669</td>\n",
       "      <td>3.052571e+05</td>\n",
       "      <td>2.525579e+05</td>\n",
       "      <td>1.115097e+02</td>\n",
       "      <td>5.579648e+05</td>\n",
       "      <td>2.0</td>\n",
       "    </tr>\n",
       "    <tr>\n",
       "      <th>1714</th>\n",
       "      <td>2012</td>\n",
       "      <td>100500</td>\n",
       "      <td>377.542489</td>\n",
       "      <td>2726.986790</td>\n",
       "      <td>1.501363e+06</td>\n",
       "      <td>1.355349e+04</td>\n",
       "      <td>3.897155e+04</td>\n",
       "      <td>1.556992e+06</td>\n",
       "      <td>15.0</td>\n",
       "    </tr>\n",
       "    <tr>\n",
       "      <th>1732</th>\n",
       "      <td>2008</td>\n",
       "      <td>080204</td>\n",
       "      <td>30214.121454</td>\n",
       "      <td>4148.908540</td>\n",
       "      <td>1.137179e+05</td>\n",
       "      <td>1.603344e+04</td>\n",
       "      <td>1.395273e+03</td>\n",
       "      <td>1.655097e+05</td>\n",
       "      <td>1.0</td>\n",
       "    </tr>\n",
       "  </tbody>\n",
       "</table>\n",
       "<p>199 rows × 9 columns</p>\n",
       "</div>"
      ],
      "text/plain": [
       "      YEAR     HUC  chickens_broilers_total  chickens_layers_total  \\\n",
       "19    2012  041503               260.481433             499.520645   \n",
       "24    2012  102702              2067.732539           82100.697810   \n",
       "32    2008  041000             12769.722064          307222.454413   \n",
       "39    2012  102500               180.536089             752.687398   \n",
       "40    2002  030902               170.858075             330.713478   \n",
       "...    ...     ...                      ...                    ...   \n",
       "1694  2012  110300               165.127843           57832.759040   \n",
       "1699  2012  102600                89.575515            2029.159728   \n",
       "1704  2012  130302                 3.725912              34.554669   \n",
       "1714  2012  100500               377.542489            2726.986790   \n",
       "1732  2008  080204             30214.121454            4148.908540   \n",
       "\n",
       "      cows_beef_total  cows_milk_total    hogs_total   total_waste  n303d  \n",
       "19       9.394114e+04     1.286047e+06  3.266735e+03  1.384015e+06   61.0  \n",
       "24       1.978980e+06     1.665708e+06  1.033615e+06  4.762472e+06   26.0  \n",
       "32       6.778783e+05     1.842790e+06  1.473064e+06  4.313725e+06  461.0  \n",
       "39       4.940555e+06     3.606809e+06  1.220018e+06  9.768315e+06   14.0  \n",
       "40       1.597562e+06     1.765747e+05  4.167948e+03  1.778806e+06  235.0  \n",
       "...               ...              ...           ...           ...    ...  \n",
       "1694     2.750970e+06     6.119901e+06  4.656392e+05  9.394508e+06   38.0  \n",
       "1699     3.941710e+06     2.178672e+06  3.713633e+05  6.493864e+06   27.0  \n",
       "1704     3.052571e+05     2.525579e+05  1.115097e+02  5.579648e+05    2.0  \n",
       "1714     1.501363e+06     1.355349e+04  3.897155e+04  1.556992e+06   15.0  \n",
       "1732     1.137179e+05     1.603344e+04  1.395273e+03  1.655097e+05    1.0  \n",
       "\n",
       "[199 rows x 9 columns]"
      ]
     },
     "execution_count": 49,
     "metadata": {},
     "output_type": "execute_result"
    }
   ],
   "source": [
    "total_df[total_df['n303d'] > 0]"
   ]
  },
  {
   "cell_type": "code",
   "execution_count": 64,
   "metadata": {},
   "outputs": [],
   "source": [
    "from scipy import stats"
   ]
  },
  {
   "cell_type": "code",
   "execution_count": 71,
   "metadata": {},
   "outputs": [
    {
     "name": "stdout",
     "output_type": "stream",
     "text": [
      "chickens_broilers_total 0.15932795543465628\n",
      "chickens_layers_total 0.0070109787019392595\n",
      "cows_beef_total 0.7028783376305809\n",
      "cows_milk_total 0.08573982133159558\n",
      "hogs_total 0.033036523628491715\n"
     ]
    }
   ],
   "source": [
    "for column in ['chickens_broilers_total', 'chickens_layers_total', 'cows_beef_total', 'cows_milk_total', 'hogs_total']:\n",
    "    print(column , stats.ttest_ind(total_df.loc[total_df['n303d'] > 0, column], total_df.loc[total_df['n303d'] == 0, column], equal_var=False)[1])"
   ]
  },
  {
   "cell_type": "code",
   "execution_count": 72,
   "metadata": {},
   "outputs": [
    {
     "data": {
      "text/plain": [
       "<matplotlib.collections.PathCollection at 0x7f6359e3cd10>"
      ]
     },
     "execution_count": 72,
     "metadata": {},
     "output_type": "execute_result"
    },
    {
     "data": {
      "image/png": "[encoded data removed]",
      "text/plain": [
       "<Figure size 432x288 with 1 Axes>"
      ]
     },
     "metadata": {
      "needs_background": "light"
     },
     "output_type": "display_data"
    }
   ],
   "source": [
    "plt.scatter(total_df['total_waste'], total_df['n303d'])"
   ]
  },
  {
   "cell_type": "code",
   "execution_count": 74,
   "metadata": {},
   "outputs": [
    {
     "name": "stderr",
     "output_type": "stream",
     "text": [
      "TopologyException: Input geom 0 is invalid: Ring Self-intersection at or near point -73.025477600215197 41.213282665195379 at -73.025477600215197 41.213282665195379\n"
     ]
    }
   ],
   "source": [
    "hucs = gpd.read_file(\"Data/Sources/WBD_National_GDB.gdb\", driver='FileGDB', layer='WBDHU6')\n",
    "world = gpd.read_file(gpd.datasets.get_path('naturalearth_lowres'))\n",
    "usa = world[world['iso_a3'] == 'USA']\n",
    "usac = gpd.clip(usa, Polygon([(-130, 20), (-130, 55), (-60, 55), (-60, 20), (-130, 20)]))\n",
    "\n",
    "hucs_clipped = hucs.copy()\n",
    "for i in hucs_clipped.index:\n",
    "    try:\n",
    "        if gpd.clip(hucs_clipped.loc[[i]], usac).shape[0] == 0:\n",
    "            hucs_clipped.drop(i, inplace = True)\n",
    "        else:\n",
    "            hucs_clipped.loc[[i]] = gpd.clip(hucs_clipped.loc[[i]], usac)\n",
    "    except:\n",
    "        pass"
   ]
  },
  {
   "cell_type": "code",
   "execution_count": 76,
   "metadata": {},
   "outputs": [
    {
     "data": {
      "text/plain": [
       "array(['2002', '2004', '2008', '2010', '2012'], dtype=object)"
      ]
     },
     "execution_count": 76,
     "metadata": {},
     "output_type": "execute_result"
    }
   ],
   "source": [
    "total_df['YEAR'].unique()"
   ]
  },
  {
   "cell_type": "code",
   "execution_count": 99,
   "metadata": {},
   "outputs": [],
   "source": [
    "huc12s = gpd.read_file(\"Data/Sources/WBD_National_GDB.gdb\", driver='FileGDB', layer='WBDHU12')"
   ]
  },
  {
   "cell_type": "code",
   "execution_count": 105,
   "metadata": {},
   "outputs": [],
   "source": [
    "epa = pd.merge(left = epa,\n",
    "         right = huc12s[['HUC12', 'geometry']],\n",
    "         on = 'HUC12',\n",
    "         suffixes = ['_epa', '']).drop(columns = ['geometry_epa'])"
   ]
  },
  {
   "cell_type": "code",
   "execution_count": null,
   "metadata": {},
   "outputs": [],
   "source": []
  },
  {
   "cell_type": "code",
   "execution_count": 127,
   "metadata": {},
   "outputs": [],
   "source": [
    "fig, ax = plt.subplots(1, 1, figsize = (14, 12))\n",
    "plt.title(f\"Hog- and  Layer Chicken- Impacted Watersheds and 301(d) Listed Waters, 2002-2012\")\n",
    "hucs_clipped.boundary.plot(color = 'grey', linewidth = 0.1, ax = ax)\n",
    "\n",
    "gdf = gpd.GeoDataFrame(pd.merge(left = total_df.loc[total_df['YEAR'].isin(epa['CYCLE_YEAR'].unique())].groupby(['HUC']).max().reset_index(),\n",
    "right = hucs_clipped[['HUC6', 'geometry', 'AREASQKM']],\n",
    "left_on = ['HUC'],\n",
    "right_on = ['HUC6'],\n",
    "how = 'inner'))\n",
    "\n",
    "gdf.plot(column = 'hogs_total', legend = False, vmin = 0, vmax = total_df['hogs_total'].quantile(0.95), cmap = 'Purples', ax = ax, alpha = 0.5)\n",
    "\n",
    "gdf.plot(column = 'chickens_broilers_total', legend = False, vmin = 0, vmax = total_df['chickens_broilers_total'].quantile(0.95), cmap = 'Oranges', ax = ax, alpha = 0.5)\n",
    "epa[(epa['LW_PARC_NM'] == 'NUTRIENTS')].plot(ax = ax, color = 'cyan', zorder = 10)\n",
    "ax.axis('off')\n",
    "plt.tight_layout()\n",
    "plt.savefig(\"Plots/Maps/HogsChickens301d.jpg\")\n",
    "plt.close()"
   ]
  },
  {
   "cell_type": "code",
   "execution_count": 122,
   "metadata": {},
   "outputs": [
    {
     "data": {
      "text/plain": [
       "<pandas.core.groupby.generic.DataFrameGroupBy object at 0x7f6359745150>"
      ]
     },
     "execution_count": 122,
     "metadata": {},
     "output_type": "execute_result"
    }
   ],
   "source": [
    "epa[(epa['LW_PARC_NM'] == 'NUTRIENTS')].groupby('HUC12')"
   ]
  },
  {
   "cell_type": "code",
   "execution_count": 116,
   "metadata": {},
   "outputs": [
    {
     "data": {
      "text/html": [
       "<div>\n",
       "<style scoped>\n",
       "    .dataframe tbody tr th:only-of-type {\n",
       "        vertical-align: middle;\n",
       "    }\n",
       "\n",
       "    .dataframe tbody tr th {\n",
       "        vertical-align: top;\n",
       "    }\n",
       "\n",
       "    .dataframe thead th {\n",
       "        text-align: right;\n",
       "    }\n",
       "</style>\n",
       "<table border=\"1\" class=\"dataframe\">\n",
       "  <thead>\n",
       "    <tr style=\"text-align: right;\">\n",
       "      <th></th>\n",
       "      <th>HUC</th>\n",
       "      <th>chickens_broilers_total</th>\n",
       "      <th>chickens_layers_total</th>\n",
       "      <th>cows_beef_total</th>\n",
       "      <th>cows_milk_total</th>\n",
       "      <th>hogs_total</th>\n",
       "      <th>total_waste</th>\n",
       "      <th>n303d</th>\n",
       "      <th>cluster</th>\n",
       "    </tr>\n",
       "  </thead>\n",
       "  <tbody>\n",
       "    <tr>\n",
       "      <th>0</th>\n",
       "      <td>010100</td>\n",
       "      <td>60.530114</td>\n",
       "      <td>189.122903</td>\n",
       "      <td>23208.154459</td>\n",
       "      <td>41171.250513</td>\n",
       "      <td>935.842987</td>\n",
       "      <td>65564.900976</td>\n",
       "      <td>0.0</td>\n",
       "      <td>0.0</td>\n",
       "    </tr>\n",
       "    <tr>\n",
       "      <th>1</th>\n",
       "      <td>010200</td>\n",
       "      <td>278.750149</td>\n",
       "      <td>325.856934</td>\n",
       "      <td>16185.526950</td>\n",
       "      <td>173688.568119</td>\n",
       "      <td>1285.988368</td>\n",
       "      <td>191764.690521</td>\n",
       "      <td>0.0</td>\n",
       "      <td>0.0</td>\n",
       "    </tr>\n",
       "    <tr>\n",
       "      <th>2</th>\n",
       "      <td>010300</td>\n",
       "      <td>99.071533</td>\n",
       "      <td>627.352179</td>\n",
       "      <td>28237.270044</td>\n",
       "      <td>252758.993463</td>\n",
       "      <td>2156.187935</td>\n",
       "      <td>283878.875155</td>\n",
       "      <td>0.0</td>\n",
       "      <td>0.0</td>\n",
       "    </tr>\n",
       "    <tr>\n",
       "      <th>3</th>\n",
       "      <td>010400</td>\n",
       "      <td>82.197068</td>\n",
       "      <td>179.847656</td>\n",
       "      <td>20954.322458</td>\n",
       "      <td>105303.550609</td>\n",
       "      <td>1645.642416</td>\n",
       "      <td>128165.560206</td>\n",
       "      <td>0.0</td>\n",
       "      <td>0.0</td>\n",
       "    </tr>\n",
       "    <tr>\n",
       "      <th>4</th>\n",
       "      <td>010500</td>\n",
       "      <td>295.704900</td>\n",
       "      <td>1232.528810</td>\n",
       "      <td>18321.982999</td>\n",
       "      <td>78562.715529</td>\n",
       "      <td>1322.824777</td>\n",
       "      <td>99735.757015</td>\n",
       "      <td>0.0</td>\n",
       "      <td>0.0</td>\n",
       "    </tr>\n",
       "    <tr>\n",
       "      <th>...</th>\n",
       "      <td>...</td>\n",
       "      <td>...</td>\n",
       "      <td>...</td>\n",
       "      <td>...</td>\n",
       "      <td>...</td>\n",
       "      <td>...</td>\n",
       "      <td>...</td>\n",
       "      <td>...</td>\n",
       "      <td>...</td>\n",
       "    </tr>\n",
       "    <tr>\n",
       "      <th>342</th>\n",
       "      <td>200400</td>\n",
       "      <td>1.953737</td>\n",
       "      <td>58.621225</td>\n",
       "      <td>17427.901161</td>\n",
       "      <td>207.421985</td>\n",
       "      <td>877.089921</td>\n",
       "      <td>18572.988029</td>\n",
       "      <td>0.0</td>\n",
       "      <td>0.0</td>\n",
       "    </tr>\n",
       "    <tr>\n",
       "      <th>343</th>\n",
       "      <td>200500</td>\n",
       "      <td>3.237993</td>\n",
       "      <td>97.154864</td>\n",
       "      <td>28883.827907</td>\n",
       "      <td>343.767207</td>\n",
       "      <td>1453.629676</td>\n",
       "      <td>30781.617648</td>\n",
       "      <td>0.0</td>\n",
       "      <td>0.0</td>\n",
       "    </tr>\n",
       "    <tr>\n",
       "      <th>344</th>\n",
       "      <td>200600</td>\n",
       "      <td>3.846311</td>\n",
       "      <td>9829.310466</td>\n",
       "      <td>12591.172382</td>\n",
       "      <td>14477.623180</td>\n",
       "      <td>9882.580556</td>\n",
       "      <td>46784.532895</td>\n",
       "      <td>0.0</td>\n",
       "      <td>0.0</td>\n",
       "    </tr>\n",
       "    <tr>\n",
       "      <th>345</th>\n",
       "      <td>200700</td>\n",
       "      <td>1.947596</td>\n",
       "      <td>166.845432</td>\n",
       "      <td>47118.624877</td>\n",
       "      <td>3862.640913</td>\n",
       "      <td>2156.365339</td>\n",
       "      <td>53306.424157</td>\n",
       "      <td>0.0</td>\n",
       "      <td>0.0</td>\n",
       "    </tr>\n",
       "    <tr>\n",
       "      <th>346</th>\n",
       "      <td>200800</td>\n",
       "      <td>0.593436</td>\n",
       "      <td>50.838102</td>\n",
       "      <td>14357.129430</td>\n",
       "      <td>1176.953608</td>\n",
       "      <td>657.048383</td>\n",
       "      <td>16242.562959</td>\n",
       "      <td>0.0</td>\n",
       "      <td>0.0</td>\n",
       "    </tr>\n",
       "  </tbody>\n",
       "</table>\n",
       "<p>347 rows × 9 columns</p>\n",
       "</div>"
      ],
      "text/plain": [
       "        HUC  chickens_broilers_total  chickens_layers_total  cows_beef_total  \\\n",
       "0    010100                60.530114             189.122903     23208.154459   \n",
       "1    010200               278.750149             325.856934     16185.526950   \n",
       "2    010300                99.071533             627.352179     28237.270044   \n",
       "3    010400                82.197068             179.847656     20954.322458   \n",
       "4    010500               295.704900            1232.528810     18321.982999   \n",
       "..      ...                      ...                    ...              ...   \n",
       "342  200400                 1.953737              58.621225     17427.901161   \n",
       "343  200500                 3.237993              97.154864     28883.827907   \n",
       "344  200600                 3.846311            9829.310466     12591.172382   \n",
       "345  200700                 1.947596             166.845432     47118.624877   \n",
       "346  200800                 0.593436              50.838102     14357.129430   \n",
       "\n",
       "     cows_milk_total   hogs_total    total_waste  n303d  cluster  \n",
       "0       41171.250513   935.842987   65564.900976    0.0      0.0  \n",
       "1      173688.568119  1285.988368  191764.690521    0.0      0.0  \n",
       "2      252758.993463  2156.187935  283878.875155    0.0      0.0  \n",
       "3      105303.550609  1645.642416  128165.560206    0.0      0.0  \n",
       "4       78562.715529  1322.824777   99735.757015    0.0      0.0  \n",
       "..               ...          ...            ...    ...      ...  \n",
       "342       207.421985   877.089921   18572.988029    0.0      0.0  \n",
       "343       343.767207  1453.629676   30781.617648    0.0      0.0  \n",
       "344     14477.623180  9882.580556   46784.532895    0.0      0.0  \n",
       "345      3862.640913  2156.365339   53306.424157    0.0      0.0  \n",
       "346      1176.953608   657.048383   16242.562959    0.0      0.0  \n",
       "\n",
       "[347 rows x 9 columns]"
      ]
     },
     "execution_count": 116,
     "metadata": {},
     "output_type": "execute_result"
    }
   ],
   "source": [
    "total_df.loc[total_df['YEAR'].isin(epa['CYCLE_YEAR'].unique())].groupby(['HUC']).mean().reset_index()"
   ]
  },
  {
   "cell_type": "code",
   "execution_count": null,
   "metadata": {},
   "outputs": [],
   "source": []
  }
 ],
 "metadata": {
  "kernelspec": {
   "display_name": "Python 3",
   "language": "python",
   "name": "python3"
  },
  "language_info": {
   "codemirror_mode": {
    "name": "ipython",
    "version": 3
   },
   "file_extension": ".py",
   "mimetype": "text/x-python",
   "name": "python",
   "nbconvert_exporter": "python",
   "pygments_lexer": "ipython3",
   "version": "3.7.6"
  }
 },
 "nbformat": 4,
 "nbformat_minor": 4
}
