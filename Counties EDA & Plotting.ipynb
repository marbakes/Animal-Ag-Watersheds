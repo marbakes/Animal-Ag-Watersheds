{
 "cells": [
  {
   "cell_type": "code",
   "execution_count": 2,
   "metadata": {},
   "outputs": [],
   "source": [
    "#Import required modules\n",
    "import pandas as pd\n",
    "import numpy as np\n",
    "import matplotlib.pyplot as plt\n",
    "import os"
   ]
  },
  {
   "cell_type": "code",
   "execution_count": 4,
   "metadata": {},
   "outputs": [],
   "source": [
    "#Import total head dataframes\n",
    "ChickensBroilers = pd.read_csv('Data/Selected/Imputed/ChickensBroilersTimeImputed.csv', dtype = 'str')\n",
    "CowsBeef = pd.read_csv('Data/Selected/Imputed/CowsBeefTimeImputed.csv', dtype = 'str')\n",
    "CowsMilk = pd.read_csv('Data/Selected/Imputed/CowsMilkTimeImputed.csv', dtype = 'str')\n",
    "Hogs = pd.read_csv('Data/Selected/Imputed/HogsTimeImputed.csv', dtype = 'str')\n",
    "ChickensLayers = pd.read_csv('Data/Selected/Imputed/ChickensLayersTimeImputed.csv', dtype = 'str')\n",
    "\n",
    "for df in [ChickensBroilers, CowsBeef, CowsMilk, Hogs, ChickensLayers]:\n",
    "    df['VALUE'] = df['VALUE'].astype('float')"
   ]
  },
  {
   "cell_type": "code",
   "execution_count": 52,
   "metadata": {},
   "outputs": [],
   "source": [
    "#Create combined dataframes of all livestock\n",
    "combined = pd.merge(left = pd.merge(left = pd.merge(left = pd.merge(left = ChickensBroilers[['YEAR', 'VALUE', 'county_state']].dropna(),\n",
    "        right = CowsBeef[['YEAR', 'VALUE', 'county_state']].dropna(),\n",
    "        on = ['YEAR', 'county_state'],\n",
    "        suffixes = ['_ChickensBroilers', '_CowsBeef'],\n",
    "        how = 'outer').fillna(0),\n",
    "         right = CowsMilk[['YEAR', 'VALUE', 'county_state']].dropna(),\n",
    "         on = ['YEAR', 'county_state'],\n",
    "         how = 'outer').fillna(0),\n",
    "         right = Hogs[['YEAR', 'VALUE', 'county_state']].dropna(),\n",
    "         on = ['YEAR', 'county_state'],\n",
    "         suffixes = ['_CowsMilk', '_Hogs'],\n",
    "         how = 'outer').fillna(0),\n",
    "         right = ChickensLayers[['YEAR', 'VALUE', 'county_state']].dropna(),\n",
    "         on = ['YEAR', 'county_state'],\n",
    "         how = 'outer').fillna(0).rename(columns = {'VALUE': 'VALUE_ChickensLayers'})\n",
    "\n",
    "combined['Total Head'] = combined['VALUE_ChickensBroilers'] + combined['VALUE_CowsBeef'] + combined['VALUE_CowsMilk'] + combined['VALUE_Hogs'] + combined['VALUE_ChickensLayers']\n",
    "\n",
    "combined['YEAR'] = combined['YEAR'].astype('int')"
   ]
  },
  {
   "cell_type": "code",
   "execution_count": 37,
   "metadata": {},
   "outputs": [],
   "source": [
    "#Define function to plot max head in counties with max head across time\n",
    "def max_plot(df, title):\n",
    "    max_counties = df.loc[df[df['AGG_LEVEL_DESC'] == 'COUNTY'].groupby(\"YEAR\")[\"VALUE\"].idxmax()][['YEAR', 'VALUE', 'county_state']].sort_values(by = 'YEAR')\n",
    "\n",
    "    plt.figure(figsize = (7, 5))\n",
    "    plt.title(f\"Maximum {title} by County\")\n",
    "    plt.ylabel(\"Head\")\n",
    "    plt.plot(max_counties['YEAR'], max_counties['VALUE'], color = 'k')\n",
    "    for county in max_counties['county_state'].unique():\n",
    "        plt.bar(max_counties[max_counties['county_state'] == county]['YEAR'],\n",
    "                max_counties[max_counties['county_state'] == county]['VALUE'], \n",
    "                label = county,\n",
    "                width = 1);\n",
    "    plt.xticks(['1980', '1990', '2000', '2010', '2020'])\n",
    "    plt.xlabel(\"Year\")\n",
    "    plt.legend()\n",
    "    plt.tight_layout();\n",
    "    plt.savefig(f'Plots/max_plot_{title}.jpg')\n",
    "    plt.close();"
   ]
  },
  {
   "cell_type": "code",
   "execution_count": 38,
   "metadata": {},
   "outputs": [],
   "source": [
    "#Plot Maximum head per county for each livestock type\n",
    "max_plot(ChickensBroilers, \"Broiler Chickens\")\n",
    "max_plot(CowsBeef, \"Beef Cows\")\n",
    "max_plot(CowsMilk, \"Milk Cows\")\n",
    "max_plot(Hogs, \"Hogs\")\n",
    "max_plot(ChickensLayers, \"Layer Chickens\")"
   ]
  }
 ],
 "metadata": {
  "kernelspec": {
   "display_name": "Python 3",
   "language": "python",
   "name": "python3"
  },
  "language_info": {
   "codemirror_mode": {
    "name": "ipython",
    "version": 3
   },
   "file_extension": ".py",
   "mimetype": "text/x-python",
   "name": "python",
   "nbconvert_exporter": "python",
   "pygments_lexer": "ipython3",
   "version": "3.7.6"
  }
 },
 "nbformat": 4,
 "nbformat_minor": 4
}
