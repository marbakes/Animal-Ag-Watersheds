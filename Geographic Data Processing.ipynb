{
 "cells": [
  {
   "cell_type": "code",
   "execution_count": 4,
   "metadata": {},
   "outputs": [],
   "source": [
    "#Import required modules\n",
    "import geopandas as gpd\n",
    "import fiona\n",
    "import matplotlib.pyplot as plt\n",
    "import pandas as pd\n",
    "import numpy as np\n",
    "from shapely.geometry import Polygon\n",
    "from mpl_toolkits.axes_grid1 import make_axes_locatable"
   ]
  },
  {
   "cell_type": "code",
   "execution_count": null,
   "metadata": {},
   "outputs": [],
   "source": [
    "#Read in watershed boundary dataset at HU6 level\n",
    "hucs = gpd.read_file(\"Data/Sources/WBD_National_GDB.gdb\", driver='FileGDB', layer='WBDHU6')\n",
    "\n",
    "#Read in counties shapefiles\n",
    "counties = gpd.read_file(\"Data/Sources/tl_2017_us_county\")\n",
    "\n",
    "world = gpd.read_file(gpd.datasets.get_path('naturalearth_lowres'))\n",
    "usa = world[world['iso_a3'] == 'USA']\n",
    "\n",
    "#Clip boundaries to continental United States\n",
    "usac = gpd.clip(usa, Polygon([(-130, 20), (-130, 55), (-60, 55), (-60, 20), (-130, 20)]))\n",
    "\n",
    "hucs_clipped = hucs.copy()\n",
    "for i in hucs_clipped.index:\n",
    "    try:\n",
    "        if gpd.clip(hucs_clipped.loc[[i]], usac).shape[0] == 0:\n",
    "            hucs_clipped.drop(i, inplace = True) #Drop HUC6 codes outside of the continental US\n",
    "        else:\n",
    "            hucs_clipped.loc[[i]] = gpd.clip(hucs_clipped.loc[[i]], usac)\n",
    "    except:\n",
    "        pass\n",
    "counties_clipped = gpd.clip(counties, usac)"
   ]
  },
  {
   "cell_type": "code",
   "execution_count": null,
   "metadata": {},
   "outputs": [],
   "source": [
    "#Plot outlines of counties\n",
    "base = usac.boundary.plot(figsize = (14, 12), color = 'gray', linewidth = 0.1)\n",
    "counties_clipped.boundary.plot(ax = base, color = 'k', linewidth = 0.1);\n",
    "plt.axis('off')\n",
    "plt.tight_layout();\n",
    "plt.savefig('Plots/Maps/USA_counties.jpg')\n",
    "\n",
    "#Plot outlines of HU6 watersheds\n",
    "base = usac.boundary.plot(figsize = (14, 12), color = 'gray', linewidth = 0.1)\n",
    "counties_clipped.boundary.plot(ax = base, color = 'k', linewidth = 0.1);\n",
    "hucs_clipped.boundary.plot(ax = base, color = 'c', linewidth = 0.2)\n",
    "plt.axis('off')\n",
    "plt.tight_layout();\n",
    "plt.savefig('Plots/Maps/USA_counties_watersheds.jpg')"
   ]
  },
  {
   "cell_type": "code",
   "execution_count": null,
   "metadata": {},
   "outputs": [],
   "source": [
    "#Use Geopandas overlay feature to quantify intersections between each county and watershed\n",
    "hc_intersect = gpd.overlay(counties, hucs, how = 'intersection')\n",
    "\n",
    "hc_intersect = hc_intersect[['STATEFP', 'COUNTYFP',  'HUC6', 'geometry']]\n",
    "\n",
    "hc_intersect['intersect_area'] = hc_intersect['geometry'].area\n",
    "\n",
    "counties['county_area'] = counties['geometry'].area\n",
    "\n",
    "hc_intersect = pd.merge(left = hc_intersect.drop(columns = ['geometry']), right = counties[['STATEFP', 'COUNTYFP', 'county_area']], how = 'left', on = ['STATEFP', 'COUNTYFP'])\n",
    "\n",
    "hc_intersect['ratio'] = hc_intersect['intersect_area'] / hc_intersect['county_area']\n",
    "\n",
    "#Export to file \n",
    "pd.DataFrame(hc_intersect.drop(columns = ['intersect_area', 'county_area']).rename(columns = {\n",
    "    'STATEFP': 'STATE_ANSI', 'COUNTYFP': 'COUNTY_CODE', 'HUC6': 'HUC', 'ratio': 'proportion'\n",
    "})).to_csv('Data/Selected/Watershed/geo_agg.csv', index = False)"
   ]
  },
  {
   "cell_type": "code",
   "execution_count": null,
   "metadata": {},
   "outputs": [],
   "source": [
    "#Define function to take in dataframe aggregated by county\n",
    "#and return dataframe aggregated by watershed\n",
    "def watershed_agg(county_file, wagged_file):\n",
    "    agg_rules = pd.read_csv(f\"Data/Selected/Watershed/geo_agg.csv\", dtype = 'str')\n",
    "    wagged = pd.DataFrame()\n",
    "    for huc in agg_rules['HUC'].unique():\n",
    "        combine = pd.merge(left = pd.read_csv(county_file, dtype = 'str')[['STATE_ANSI', 'COUNTY_ANSI','YEAR', 'VALUE']].rename(columns = {'COUNTY_ANSI': 'COUNTY_CODE'}),\n",
    "                 right = agg_rules[agg_rules['HUC'] == huc],\n",
    "                 on = ['STATE_ANSI', 'COUNTY_CODE'],\n",
    "                 how = 'inner')\n",
    "\n",
    "        if combine.shape[0] > 0:\n",
    "            combine['total'] = combine['VALUE'].astype('float') * combine['proportion'].astype('float')\n",
    "\n",
    "            combine_totals = pd.DataFrame(combine.groupby('YEAR').sum()['total']).reset_index()\n",
    "\n",
    "            combine_totals['HUC'] = huc\n",
    "            wagged = pd.concat([wagged, combine_totals])\n",
    "\n",
    "        wagged.to_csv(f'Data/Selected/Watershed/{wagged_file}.csv', index = False)"
   ]
  },
  {
   "cell_type": "code",
   "execution_count": null,
   "metadata": {},
   "outputs": [],
   "source": [
    "#Aggregate all livestock head by watershed\n",
    "watershed_agg('Data/Selected/Imputed/ChickensBroilersTimeImputed.csv','ChickensBroilers')\n",
    "watershed_agg('Data/Selected/Imputed/CowsBeefTimeImputed.csv','CowsBeef')\n",
    "watershed_agg('Data/Selected/Imputed/CowsMilkTimeImputed.csv','CowsMilk')\n",
    "watershed_agg('Data/Selected/Imputed/HogsTimeImputed.csv','Hogs')\n",
    "watershed_agg('Data/Selected/Imputed/ChickensLayersTimeImputed.csv', 'ChickensLayers')"
   ]
  }
 ],
 "metadata": {
  "kernelspec": {
   "display_name": "Python 3",
   "language": "python",
   "name": "python3"
  },
  "language_info": {
   "codemirror_mode": {
    "name": "ipython",
    "version": 3
   },
   "file_extension": ".py",
   "mimetype": "text/x-python",
   "name": "python",
   "nbconvert_exporter": "python",
   "pygments_lexer": "ipython3",
   "version": "3.7.6"
  }
 },
 "nbformat": 4,
 "nbformat_minor": 4
}
